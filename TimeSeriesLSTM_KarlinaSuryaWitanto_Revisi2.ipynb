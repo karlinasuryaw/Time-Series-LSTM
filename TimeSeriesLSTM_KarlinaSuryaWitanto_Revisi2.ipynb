{
  "nbformat": 4,
  "nbformat_minor": 5,
  "metadata": {
    "colab": {
      "name": "TimeSeriesLSTM_KarlinaSuryaWitanto_Revisi2.ipynb",
      "provenance": [],
      "collapsed_sections": []
    },
    "kernelspec": {
      "display_name": "Python 3",
      "language": "python",
      "name": "python3"
    },
    "language_info": {
      "codemirror_mode": {
        "name": "ipython",
        "version": 3
      },
      "file_extension": ".py",
      "mimetype": "text/x-python",
      "name": "python",
      "nbconvert_exporter": "python",
      "pygments_lexer": "ipython3",
      "version": "3.7.4"
    },
    "varInspector": {
      "cols": {
        "lenName": 16,
        "lenType": 16,
        "lenVar": 40
      },
      "kernels_config": {
        "python": {
          "delete_cmd_postfix": "",
          "delete_cmd_prefix": "del ",
          "library": "var_list.py",
          "varRefreshCmd": "print(var_dic_list())"
        },
        "r": {
          "delete_cmd_postfix": ") ",
          "delete_cmd_prefix": "rm(",
          "library": "var_list.r",
          "varRefreshCmd": "cat(var_dic_list()) "
        }
      },
      "types_to_exclude": [
        "module",
        "function",
        "builtin_function_or_method",
        "instance",
        "_Feature"
      ],
      "window_display": false
    }
  },
  "cells": [
    {
      "cell_type": "markdown",
      "metadata": {
        "id": "lightweight-marketing"
      },
      "source": [
        "# **Proyek II : Membuat Model Machine Learning dengan Data Time Series - Dicoding x Kampus Merdeka**"
      ],
      "id": "lightweight-marketing"
    },
    {
      "cell_type": "markdown",
      "metadata": {
        "id": "pressing-detection"
      },
      "source": [
        "# **DATA DIRI**\n",
        "\n",
        "* Nama      : Karlina Surya Witanto\n",
        "* ID        : M014V6051\n",
        "* PT        : Universitas Udayana\n",
        "* Email     : gabriella.linatan@gmail.com\n",
        "* Email SIB : m014v6051@dicoding.org"
      ],
      "id": "pressing-detection"
    },
    {
      "cell_type": "markdown",
      "metadata": {
        "id": "choice-verification"
      },
      "source": [
        "# **1. Import Library & Import Dataset**"
      ],
      "id": "choice-verification"
    },
    {
      "cell_type": "markdown",
      "metadata": {
        "id": "urban-christianity"
      },
      "source": [
        "Sumber Dataset : https://www.kaggle.com/cornflake15/denpasarbalihistoricalweatherdata?select=openweatherdata-denpasar-1990-2020v0.1.csv"
      ],
      "id": "urban-christianity"
    },
    {
      "cell_type": "code",
      "metadata": {
        "id": "handmade-collection"
      },
      "source": [
        "import seaborn as sns\n",
        "import matplotlib.pyplot as plt\n",
        "import numpy as np\n",
        "import pandas as pd\n",
        "\n",
        "from keras.layers import Dense, LSTM\n",
        "import tensorflow as tf\n",
        "from sklearn.preprocessing import MinMaxScaler"
      ],
      "id": "handmade-collection",
      "execution_count": 1,
      "outputs": []
    },
    {
      "cell_type": "code",
      "metadata": {
        "colab": {
          "base_uri": "https://localhost:8080/"
        },
        "id": "SuwIRb9GQhv2",
        "outputId": "5a0ec8d0-3768-42b0-b997-4fdde9a1ebb6"
      },
      "source": [
        "from google.colab import drive\n",
        "drive.mount('/content/drive/')"
      ],
      "id": "SuwIRb9GQhv2",
      "execution_count": 2,
      "outputs": [
        {
          "output_type": "stream",
          "name": "stdout",
          "text": [
            "Drive already mounted at /content/drive/; to attempt to forcibly remount, call drive.mount(\"/content/drive/\", force_remount=True).\n"
          ]
        }
      ]
    },
    {
      "cell_type": "markdown",
      "metadata": {
        "id": "strange-culture"
      },
      "source": [
        "**Import Dataset dari Google Drive dan tampilkan dalam dataframe**"
      ],
      "id": "strange-culture"
    },
    {
      "cell_type": "code",
      "metadata": {
        "colab": {
          "base_uri": "https://localhost:8080/",
          "height": 597
        },
        "id": "italian-correction",
        "outputId": "83b26c20-4e16-46d3-e3f4-3a723569372e"
      },
      "source": [
        "df = pd.read_csv('/content/drive/MyDrive/Colab Notebooks/dataset/openweatherdata-denpasar-1990-2020v0.1.csv')\n",
        "df.head(11)"
      ],
      "id": "italian-correction",
      "execution_count": 3,
      "outputs": [
        {
          "output_type": "execute_result",
          "data": {
            "text/html": [
              "<div>\n",
              "<style scoped>\n",
              "    .dataframe tbody tr th:only-of-type {\n",
              "        vertical-align: middle;\n",
              "    }\n",
              "\n",
              "    .dataframe tbody tr th {\n",
              "        vertical-align: top;\n",
              "    }\n",
              "\n",
              "    .dataframe thead th {\n",
              "        text-align: right;\n",
              "    }\n",
              "</style>\n",
              "<table border=\"1\" class=\"dataframe\">\n",
              "  <thead>\n",
              "    <tr style=\"text-align: right;\">\n",
              "      <th></th>\n",
              "      <th>dt_iso</th>\n",
              "      <th>timezone</th>\n",
              "      <th>city_name</th>\n",
              "      <th>lat</th>\n",
              "      <th>lon</th>\n",
              "      <th>temp</th>\n",
              "      <th>temp_min</th>\n",
              "      <th>temp_max</th>\n",
              "      <th>pressure</th>\n",
              "      <th>humidity</th>\n",
              "      <th>wind_speed</th>\n",
              "      <th>wind_deg</th>\n",
              "      <th>rain_1h</th>\n",
              "      <th>rain_3h</th>\n",
              "      <th>rain_6h</th>\n",
              "      <th>rain_12h</th>\n",
              "      <th>rain_24h</th>\n",
              "      <th>rain_today</th>\n",
              "      <th>snow_1h</th>\n",
              "      <th>snow_3h</th>\n",
              "      <th>snow_6h</th>\n",
              "      <th>snow_12h</th>\n",
              "      <th>snow_24h</th>\n",
              "      <th>snow_today</th>\n",
              "      <th>clouds_all</th>\n",
              "      <th>weather_id</th>\n",
              "      <th>weather_main</th>\n",
              "      <th>weather_description</th>\n",
              "      <th>weather_icon</th>\n",
              "    </tr>\n",
              "  </thead>\n",
              "  <tbody>\n",
              "    <tr>\n",
              "      <th>0</th>\n",
              "      <td>1/1/1990 0:00</td>\n",
              "      <td>28800</td>\n",
              "      <td>Denpasar</td>\n",
              "      <td>-8.652497</td>\n",
              "      <td>115.219117</td>\n",
              "      <td>25.82</td>\n",
              "      <td>25.82</td>\n",
              "      <td>25.82</td>\n",
              "      <td>1010.0</td>\n",
              "      <td>86</td>\n",
              "      <td>1.36</td>\n",
              "      <td>225</td>\n",
              "      <td>0.49</td>\n",
              "      <td>NaN</td>\n",
              "      <td>NaN</td>\n",
              "      <td>NaN</td>\n",
              "      <td>NaN</td>\n",
              "      <td>NaN</td>\n",
              "      <td>NaN</td>\n",
              "      <td>NaN</td>\n",
              "      <td>NaN</td>\n",
              "      <td>NaN</td>\n",
              "      <td>NaN</td>\n",
              "      <td>NaN</td>\n",
              "      <td>98</td>\n",
              "      <td>500</td>\n",
              "      <td>Rain</td>\n",
              "      <td>light rain</td>\n",
              "      <td>10d</td>\n",
              "    </tr>\n",
              "    <tr>\n",
              "      <th>1</th>\n",
              "      <td>1/1/1990 1:00</td>\n",
              "      <td>28800</td>\n",
              "      <td>Denpasar</td>\n",
              "      <td>-8.652497</td>\n",
              "      <td>115.219117</td>\n",
              "      <td>26.20</td>\n",
              "      <td>26.20</td>\n",
              "      <td>26.20</td>\n",
              "      <td>1011.0</td>\n",
              "      <td>84</td>\n",
              "      <td>2.09</td>\n",
              "      <td>247</td>\n",
              "      <td>0.13</td>\n",
              "      <td>NaN</td>\n",
              "      <td>NaN</td>\n",
              "      <td>NaN</td>\n",
              "      <td>NaN</td>\n",
              "      <td>NaN</td>\n",
              "      <td>NaN</td>\n",
              "      <td>NaN</td>\n",
              "      <td>NaN</td>\n",
              "      <td>NaN</td>\n",
              "      <td>NaN</td>\n",
              "      <td>NaN</td>\n",
              "      <td>91</td>\n",
              "      <td>500</td>\n",
              "      <td>Rain</td>\n",
              "      <td>light rain</td>\n",
              "      <td>10d</td>\n",
              "    </tr>\n",
              "    <tr>\n",
              "      <th>2</th>\n",
              "      <td>1/1/1990 2:00</td>\n",
              "      <td>28800</td>\n",
              "      <td>Denpasar</td>\n",
              "      <td>-8.652497</td>\n",
              "      <td>115.219117</td>\n",
              "      <td>26.45</td>\n",
              "      <td>26.45</td>\n",
              "      <td>26.45</td>\n",
              "      <td>1011.0</td>\n",
              "      <td>84</td>\n",
              "      <td>2.44</td>\n",
              "      <td>262</td>\n",
              "      <td>0.24</td>\n",
              "      <td>NaN</td>\n",
              "      <td>NaN</td>\n",
              "      <td>NaN</td>\n",
              "      <td>NaN</td>\n",
              "      <td>NaN</td>\n",
              "      <td>NaN</td>\n",
              "      <td>NaN</td>\n",
              "      <td>NaN</td>\n",
              "      <td>NaN</td>\n",
              "      <td>NaN</td>\n",
              "      <td>NaN</td>\n",
              "      <td>94</td>\n",
              "      <td>500</td>\n",
              "      <td>Rain</td>\n",
              "      <td>light rain</td>\n",
              "      <td>10d</td>\n",
              "    </tr>\n",
              "    <tr>\n",
              "      <th>3</th>\n",
              "      <td>1/1/1990 3:00</td>\n",
              "      <td>28800</td>\n",
              "      <td>Denpasar</td>\n",
              "      <td>-8.652497</td>\n",
              "      <td>115.219117</td>\n",
              "      <td>26.80</td>\n",
              "      <td>26.80</td>\n",
              "      <td>26.80</td>\n",
              "      <td>1011.0</td>\n",
              "      <td>82</td>\n",
              "      <td>2.29</td>\n",
              "      <td>271</td>\n",
              "      <td>0.23</td>\n",
              "      <td>NaN</td>\n",
              "      <td>NaN</td>\n",
              "      <td>NaN</td>\n",
              "      <td>NaN</td>\n",
              "      <td>NaN</td>\n",
              "      <td>NaN</td>\n",
              "      <td>NaN</td>\n",
              "      <td>NaN</td>\n",
              "      <td>NaN</td>\n",
              "      <td>NaN</td>\n",
              "      <td>NaN</td>\n",
              "      <td>94</td>\n",
              "      <td>500</td>\n",
              "      <td>Rain</td>\n",
              "      <td>light rain</td>\n",
              "      <td>10d</td>\n",
              "    </tr>\n",
              "    <tr>\n",
              "      <th>4</th>\n",
              "      <td>1/1/1990 4:00</td>\n",
              "      <td>28800</td>\n",
              "      <td>Denpasar</td>\n",
              "      <td>-8.652497</td>\n",
              "      <td>115.219117</td>\n",
              "      <td>27.04</td>\n",
              "      <td>27.04</td>\n",
              "      <td>27.04</td>\n",
              "      <td>1010.0</td>\n",
              "      <td>82</td>\n",
              "      <td>1.71</td>\n",
              "      <td>274</td>\n",
              "      <td>NaN</td>\n",
              "      <td>NaN</td>\n",
              "      <td>NaN</td>\n",
              "      <td>NaN</td>\n",
              "      <td>NaN</td>\n",
              "      <td>NaN</td>\n",
              "      <td>NaN</td>\n",
              "      <td>NaN</td>\n",
              "      <td>NaN</td>\n",
              "      <td>NaN</td>\n",
              "      <td>NaN</td>\n",
              "      <td>NaN</td>\n",
              "      <td>76</td>\n",
              "      <td>803</td>\n",
              "      <td>Clouds</td>\n",
              "      <td>broken clouds</td>\n",
              "      <td>04d</td>\n",
              "    </tr>\n",
              "    <tr>\n",
              "      <th>5</th>\n",
              "      <td>1/1/1990 5:00</td>\n",
              "      <td>28800</td>\n",
              "      <td>Denpasar</td>\n",
              "      <td>-8.652497</td>\n",
              "      <td>115.219117</td>\n",
              "      <td>27.23</td>\n",
              "      <td>27.23</td>\n",
              "      <td>27.23</td>\n",
              "      <td>1009.0</td>\n",
              "      <td>82</td>\n",
              "      <td>1.67</td>\n",
              "      <td>248</td>\n",
              "      <td>NaN</td>\n",
              "      <td>NaN</td>\n",
              "      <td>NaN</td>\n",
              "      <td>NaN</td>\n",
              "      <td>NaN</td>\n",
              "      <td>NaN</td>\n",
              "      <td>NaN</td>\n",
              "      <td>NaN</td>\n",
              "      <td>NaN</td>\n",
              "      <td>NaN</td>\n",
              "      <td>NaN</td>\n",
              "      <td>NaN</td>\n",
              "      <td>65</td>\n",
              "      <td>803</td>\n",
              "      <td>Clouds</td>\n",
              "      <td>broken clouds</td>\n",
              "      <td>04d</td>\n",
              "    </tr>\n",
              "    <tr>\n",
              "      <th>6</th>\n",
              "      <td>1/1/1990 6:00</td>\n",
              "      <td>28800</td>\n",
              "      <td>Denpasar</td>\n",
              "      <td>-8.652497</td>\n",
              "      <td>115.219117</td>\n",
              "      <td>27.32</td>\n",
              "      <td>27.32</td>\n",
              "      <td>27.32</td>\n",
              "      <td>1008.0</td>\n",
              "      <td>82</td>\n",
              "      <td>2.17</td>\n",
              "      <td>218</td>\n",
              "      <td>NaN</td>\n",
              "      <td>NaN</td>\n",
              "      <td>NaN</td>\n",
              "      <td>NaN</td>\n",
              "      <td>NaN</td>\n",
              "      <td>NaN</td>\n",
              "      <td>NaN</td>\n",
              "      <td>NaN</td>\n",
              "      <td>NaN</td>\n",
              "      <td>NaN</td>\n",
              "      <td>NaN</td>\n",
              "      <td>NaN</td>\n",
              "      <td>68</td>\n",
              "      <td>803</td>\n",
              "      <td>Clouds</td>\n",
              "      <td>broken clouds</td>\n",
              "      <td>04d</td>\n",
              "    </tr>\n",
              "    <tr>\n",
              "      <th>7</th>\n",
              "      <td>1/1/1990 7:00</td>\n",
              "      <td>28800</td>\n",
              "      <td>Denpasar</td>\n",
              "      <td>-8.652497</td>\n",
              "      <td>115.219117</td>\n",
              "      <td>27.29</td>\n",
              "      <td>27.29</td>\n",
              "      <td>27.29</td>\n",
              "      <td>1008.0</td>\n",
              "      <td>82</td>\n",
              "      <td>2.91</td>\n",
              "      <td>219</td>\n",
              "      <td>0.12</td>\n",
              "      <td>NaN</td>\n",
              "      <td>NaN</td>\n",
              "      <td>NaN</td>\n",
              "      <td>NaN</td>\n",
              "      <td>NaN</td>\n",
              "      <td>NaN</td>\n",
              "      <td>NaN</td>\n",
              "      <td>NaN</td>\n",
              "      <td>NaN</td>\n",
              "      <td>NaN</td>\n",
              "      <td>NaN</td>\n",
              "      <td>71</td>\n",
              "      <td>500</td>\n",
              "      <td>Rain</td>\n",
              "      <td>light rain</td>\n",
              "      <td>10d</td>\n",
              "    </tr>\n",
              "    <tr>\n",
              "      <th>8</th>\n",
              "      <td>1/1/1990 8:00</td>\n",
              "      <td>28800</td>\n",
              "      <td>Denpasar</td>\n",
              "      <td>-8.652497</td>\n",
              "      <td>115.219117</td>\n",
              "      <td>27.34</td>\n",
              "      <td>27.34</td>\n",
              "      <td>27.34</td>\n",
              "      <td>1007.0</td>\n",
              "      <td>81</td>\n",
              "      <td>2.40</td>\n",
              "      <td>230</td>\n",
              "      <td>0.30</td>\n",
              "      <td>NaN</td>\n",
              "      <td>NaN</td>\n",
              "      <td>NaN</td>\n",
              "      <td>NaN</td>\n",
              "      <td>NaN</td>\n",
              "      <td>NaN</td>\n",
              "      <td>NaN</td>\n",
              "      <td>NaN</td>\n",
              "      <td>NaN</td>\n",
              "      <td>NaN</td>\n",
              "      <td>NaN</td>\n",
              "      <td>76</td>\n",
              "      <td>500</td>\n",
              "      <td>Rain</td>\n",
              "      <td>light rain</td>\n",
              "      <td>10d</td>\n",
              "    </tr>\n",
              "    <tr>\n",
              "      <th>9</th>\n",
              "      <td>1/1/1990 9:00</td>\n",
              "      <td>28800</td>\n",
              "      <td>Denpasar</td>\n",
              "      <td>-8.652497</td>\n",
              "      <td>115.219117</td>\n",
              "      <td>27.23</td>\n",
              "      <td>27.23</td>\n",
              "      <td>27.23</td>\n",
              "      <td>1007.0</td>\n",
              "      <td>82</td>\n",
              "      <td>1.91</td>\n",
              "      <td>238</td>\n",
              "      <td>NaN</td>\n",
              "      <td>NaN</td>\n",
              "      <td>NaN</td>\n",
              "      <td>NaN</td>\n",
              "      <td>NaN</td>\n",
              "      <td>NaN</td>\n",
              "      <td>NaN</td>\n",
              "      <td>NaN</td>\n",
              "      <td>NaN</td>\n",
              "      <td>NaN</td>\n",
              "      <td>NaN</td>\n",
              "      <td>NaN</td>\n",
              "      <td>87</td>\n",
              "      <td>804</td>\n",
              "      <td>Clouds</td>\n",
              "      <td>overcast clouds</td>\n",
              "      <td>04d</td>\n",
              "    </tr>\n",
              "    <tr>\n",
              "      <th>10</th>\n",
              "      <td>1/1/1990 10:00</td>\n",
              "      <td>28800</td>\n",
              "      <td>Denpasar</td>\n",
              "      <td>-8.652497</td>\n",
              "      <td>115.219117</td>\n",
              "      <td>27.40</td>\n",
              "      <td>27.40</td>\n",
              "      <td>27.40</td>\n",
              "      <td>1008.0</td>\n",
              "      <td>81</td>\n",
              "      <td>1.41</td>\n",
              "      <td>221</td>\n",
              "      <td>NaN</td>\n",
              "      <td>NaN</td>\n",
              "      <td>NaN</td>\n",
              "      <td>NaN</td>\n",
              "      <td>NaN</td>\n",
              "      <td>NaN</td>\n",
              "      <td>NaN</td>\n",
              "      <td>NaN</td>\n",
              "      <td>NaN</td>\n",
              "      <td>NaN</td>\n",
              "      <td>NaN</td>\n",
              "      <td>NaN</td>\n",
              "      <td>100</td>\n",
              "      <td>804</td>\n",
              "      <td>Clouds</td>\n",
              "      <td>overcast clouds</td>\n",
              "      <td>04d</td>\n",
              "    </tr>\n",
              "  </tbody>\n",
              "</table>\n",
              "</div>"
            ],
            "text/plain": [
              "            dt_iso  timezone  ... weather_description  weather_icon\n",
              "0    1/1/1990 0:00     28800  ...          light rain           10d\n",
              "1    1/1/1990 1:00     28800  ...          light rain           10d\n",
              "2    1/1/1990 2:00     28800  ...          light rain           10d\n",
              "3    1/1/1990 3:00     28800  ...          light rain           10d\n",
              "4    1/1/1990 4:00     28800  ...       broken clouds           04d\n",
              "5    1/1/1990 5:00     28800  ...       broken clouds           04d\n",
              "6    1/1/1990 6:00     28800  ...       broken clouds           04d\n",
              "7    1/1/1990 7:00     28800  ...          light rain           10d\n",
              "8    1/1/1990 8:00     28800  ...          light rain           10d\n",
              "9    1/1/1990 9:00     28800  ...     overcast clouds           04d\n",
              "10  1/1/1990 10:00     28800  ...     overcast clouds           04d\n",
              "\n",
              "[11 rows x 29 columns]"
            ]
          },
          "metadata": {},
          "execution_count": 3
        }
      ]
    },
    {
      "cell_type": "markdown",
      "metadata": {
        "id": "universal-chambers"
      },
      "source": [
        "# **2. Visualisasi Data - Grafik**"
      ],
      "id": "universal-chambers"
    },
    {
      "cell_type": "code",
      "metadata": {
        "colab": {
          "base_uri": "https://localhost:8080/"
        },
        "id": "answering-navigator",
        "outputId": "200d9a80-ea29-4b3c-bc2a-770e396e009a"
      },
      "source": [
        "# Total data\n",
        "\n",
        "df.shape"
      ],
      "id": "answering-navigator",
      "execution_count": 4,
      "outputs": [
        {
          "output_type": "execute_result",
          "data": {
            "text/plain": [
              "(264924, 29)"
            ]
          },
          "metadata": {},
          "execution_count": 4
        }
      ]
    },
    {
      "cell_type": "code",
      "metadata": {
        "colab": {
          "base_uri": "https://localhost:8080/"
        },
        "id": "adjacent-history",
        "outputId": "229c85e8-81f5-498b-8425-93542808674f"
      },
      "source": [
        "#menghitung jumlah data yang terbaru\n",
        "\n",
        "df.weather_main.value_counts()"
      ],
      "id": "adjacent-history",
      "execution_count": 5,
      "outputs": [
        {
          "output_type": "execute_result",
          "data": {
            "text/plain": [
              "Clouds          220657\n",
              "Rain             34901\n",
              "Thunderstorm      4724\n",
              "Clear             3941\n",
              "Haze               548\n",
              "Mist                74\n",
              "Smoke               29\n",
              "Fog                 16\n",
              "Dust                10\n",
              "Tornado              8\n",
              "Drizzle              8\n",
              "Squall               4\n",
              "Ash                  4\n",
              "Name: weather_main, dtype: int64"
            ]
          },
          "metadata": {},
          "execution_count": 5
        }
      ]
    },
    {
      "cell_type": "code",
      "metadata": {
        "colab": {
          "base_uri": "https://localhost:8080/",
          "height": 460
        },
        "id": "preliminary-algebra",
        "outputId": "77772a0a-21a6-4167-ef25-659c9b986f6b"
      },
      "source": [
        "plt.figure(figsize = (12, 6))\n",
        "sns.countplot(df.weather_main)"
      ],
      "id": "preliminary-algebra",
      "execution_count": 6,
      "outputs": [
        {
          "output_type": "stream",
          "name": "stderr",
          "text": [
            "/usr/local/lib/python3.7/dist-packages/seaborn/_decorators.py:43: FutureWarning: Pass the following variable as a keyword arg: x. From version 0.12, the only valid positional argument will be `data`, and passing other arguments without an explicit keyword will result in an error or misinterpretation.\n",
            "  FutureWarning\n"
          ]
        },
        {
          "output_type": "execute_result",
          "data": {
            "text/plain": [
              "<matplotlib.axes._subplots.AxesSubplot at 0x7f0e5eb36150>"
            ]
          },
          "metadata": {},
          "execution_count": 6
        },
        {
          "output_type": "display_data",
          "data": {
            "image/png": "[encoded data removed]",
            "text/plain": [
              "<Figure size 864x432 with 1 Axes>"
            ]
          },
          "metadata": {
            "needs_background": "light"
          }
        }
      ]
    },
    {
      "cell_type": "markdown",
      "metadata": {
        "id": "intense-northeast"
      },
      "source": [
        "# **3. Mengecek Kolom yang Mengandung Variabel Kosong**"
      ],
      "id": "intense-northeast"
    },
    {
      "cell_type": "code",
      "metadata": {
        "colab": {
          "base_uri": "https://localhost:8080/"
        },
        "id": "massive-knitting",
        "outputId": "23348e39-e147-4a8f-80a7-0007434141f7"
      },
      "source": [
        "df.isnull().sum()\n"
      ],
      "id": "massive-knitting",
      "execution_count": 7,
      "outputs": [
        {
          "output_type": "execute_result",
          "data": {
            "text/plain": [
              "dt_iso                      0\n",
              "timezone                    0\n",
              "city_name                   0\n",
              "lat                         0\n",
              "lon                         0\n",
              "temp                        0\n",
              "temp_min                    0\n",
              "temp_max                    0\n",
              "pressure                    0\n",
              "humidity                    0\n",
              "wind_speed                  0\n",
              "wind_deg                    0\n",
              "rain_1h                248638\n",
              "rain_3h                248768\n",
              "rain_6h                228826\n",
              "rain_12h               264912\n",
              "rain_24h               258107\n",
              "rain_today             264924\n",
              "snow_1h                264924\n",
              "snow_3h                264924\n",
              "snow_6h                264924\n",
              "snow_12h               264924\n",
              "snow_24h               264924\n",
              "snow_today             264924\n",
              "clouds_all                  0\n",
              "weather_id                  0\n",
              "weather_main                0\n",
              "weather_description         0\n",
              "weather_icon                0\n",
              "dtype: int64"
            ]
          },
          "metadata": {},
          "execution_count": 7
        }
      ]
    },
    {
      "cell_type": "markdown",
      "metadata": {
        "id": "great-amplifier"
      },
      "source": [
        "# **4. Drop Kolom yang Mengandung Variabel Kosong**"
      ],
      "id": "great-amplifier"
    },
    {
      "cell_type": "code",
      "metadata": {
        "colab": {
          "base_uri": "https://localhost:8080/",
          "height": 309
        },
        "id": "determined-kinase",
        "outputId": "63f339a5-d291-46cc-9837-cfc63ce0e82e"
      },
      "source": [
        "df=df.dropna(axis=1, how='any', thresh=None, subset=None, inplace=False)\n",
        "df.head()"
      ],
      "id": "determined-kinase",
      "execution_count": 8,
      "outputs": [
        {
          "output_type": "execute_result",
          "data": {
            "text/html": [
              "<div>\n",
              "<style scoped>\n",
              "    .dataframe tbody tr th:only-of-type {\n",
              "        vertical-align: middle;\n",
              "    }\n",
              "\n",
              "    .dataframe tbody tr th {\n",
              "        vertical-align: top;\n",
              "    }\n",
              "\n",
              "    .dataframe thead th {\n",
              "        text-align: right;\n",
              "    }\n",
              "</style>\n",
              "<table border=\"1\" class=\"dataframe\">\n",
              "  <thead>\n",
              "    <tr style=\"text-align: right;\">\n",
              "      <th></th>\n",
              "      <th>dt_iso</th>\n",
              "      <th>timezone</th>\n",
              "      <th>city_name</th>\n",
              "      <th>lat</th>\n",
              "      <th>lon</th>\n",
              "      <th>temp</th>\n",
              "      <th>temp_min</th>\n",
              "      <th>temp_max</th>\n",
              "      <th>pressure</th>\n",
              "      <th>humidity</th>\n",
              "      <th>wind_speed</th>\n",
              "      <th>wind_deg</th>\n",
              "      <th>clouds_all</th>\n",
              "      <th>weather_id</th>\n",
              "      <th>weather_main</th>\n",
              "      <th>weather_description</th>\n",
              "      <th>weather_icon</th>\n",
              "    </tr>\n",
              "  </thead>\n",
              "  <tbody>\n",
              "    <tr>\n",
              "      <th>0</th>\n",
              "      <td>1/1/1990 0:00</td>\n",
              "      <td>28800</td>\n",
              "      <td>Denpasar</td>\n",
              "      <td>-8.652497</td>\n",
              "      <td>115.219117</td>\n",
              "      <td>25.82</td>\n",
              "      <td>25.82</td>\n",
              "      <td>25.82</td>\n",
              "      <td>1010.0</td>\n",
              "      <td>86</td>\n",
              "      <td>1.36</td>\n",
              "      <td>225</td>\n",
              "      <td>98</td>\n",
              "      <td>500</td>\n",
              "      <td>Rain</td>\n",
              "      <td>light rain</td>\n",
              "      <td>10d</td>\n",
              "    </tr>\n",
              "    <tr>\n",
              "      <th>1</th>\n",
              "      <td>1/1/1990 1:00</td>\n",
              "      <td>28800</td>\n",
              "      <td>Denpasar</td>\n",
              "      <td>-8.652497</td>\n",
              "      <td>115.219117</td>\n",
              "      <td>26.20</td>\n",
              "      <td>26.20</td>\n",
              "      <td>26.20</td>\n",
              "      <td>1011.0</td>\n",
              "      <td>84</td>\n",
              "      <td>2.09</td>\n",
              "      <td>247</td>\n",
              "      <td>91</td>\n",
              "      <td>500</td>\n",
              "      <td>Rain</td>\n",
              "      <td>light rain</td>\n",
              "      <td>10d</td>\n",
              "    </tr>\n",
              "    <tr>\n",
              "      <th>2</th>\n",
              "      <td>1/1/1990 2:00</td>\n",
              "      <td>28800</td>\n",
              "      <td>Denpasar</td>\n",
              "      <td>-8.652497</td>\n",
              "      <td>115.219117</td>\n",
              "      <td>26.45</td>\n",
              "      <td>26.45</td>\n",
              "      <td>26.45</td>\n",
              "      <td>1011.0</td>\n",
              "      <td>84</td>\n",
              "      <td>2.44</td>\n",
              "      <td>262</td>\n",
              "      <td>94</td>\n",
              "      <td>500</td>\n",
              "      <td>Rain</td>\n",
              "      <td>light rain</td>\n",
              "      <td>10d</td>\n",
              "    </tr>\n",
              "    <tr>\n",
              "      <th>3</th>\n",
              "      <td>1/1/1990 3:00</td>\n",
              "      <td>28800</td>\n",
              "      <td>Denpasar</td>\n",
              "      <td>-8.652497</td>\n",
              "      <td>115.219117</td>\n",
              "      <td>26.80</td>\n",
              "      <td>26.80</td>\n",
              "      <td>26.80</td>\n",
              "      <td>1011.0</td>\n",
              "      <td>82</td>\n",
              "      <td>2.29</td>\n",
              "      <td>271</td>\n",
              "      <td>94</td>\n",
              "      <td>500</td>\n",
              "      <td>Rain</td>\n",
              "      <td>light rain</td>\n",
              "      <td>10d</td>\n",
              "    </tr>\n",
              "    <tr>\n",
              "      <th>4</th>\n",
              "      <td>1/1/1990 4:00</td>\n",
              "      <td>28800</td>\n",
              "      <td>Denpasar</td>\n",
              "      <td>-8.652497</td>\n",
              "      <td>115.219117</td>\n",
              "      <td>27.04</td>\n",
              "      <td>27.04</td>\n",
              "      <td>27.04</td>\n",
              "      <td>1010.0</td>\n",
              "      <td>82</td>\n",
              "      <td>1.71</td>\n",
              "      <td>274</td>\n",
              "      <td>76</td>\n",
              "      <td>803</td>\n",
              "      <td>Clouds</td>\n",
              "      <td>broken clouds</td>\n",
              "      <td>04d</td>\n",
              "    </tr>\n",
              "  </tbody>\n",
              "</table>\n",
              "</div>"
            ],
            "text/plain": [
              "          dt_iso  timezone  ... weather_description  weather_icon\n",
              "0  1/1/1990 0:00     28800  ...          light rain           10d\n",
              "1  1/1/1990 1:00     28800  ...          light rain           10d\n",
              "2  1/1/1990 2:00     28800  ...          light rain           10d\n",
              "3  1/1/1990 3:00     28800  ...          light rain           10d\n",
              "4  1/1/1990 4:00     28800  ...       broken clouds           04d\n",
              "\n",
              "[5 rows x 17 columns]"
            ]
          },
          "metadata": {},
          "execution_count": 8
        }
      ]
    },
    {
      "cell_type": "markdown",
      "metadata": {
        "id": "smoking-license"
      },
      "source": [
        "# **5. Drop Kolom yang Tidak Digunakan**"
      ],
      "id": "smoking-license"
    },
    {
      "cell_type": "code",
      "metadata": {
        "id": "academic-idaho"
      },
      "source": [
        "df.drop(columns=['lat', 'lon', 'timezone','weather_icon', 'city_name'],\n",
        "                 inplace=True, axis=1)"
      ],
      "id": "academic-idaho",
      "execution_count": 9,
      "outputs": []
    },
    {
      "cell_type": "markdown",
      "metadata": {
        "id": "quantitative-judges"
      },
      "source": [
        "# **6. Mengambil 15.000 Data**"
      ],
      "id": "quantitative-judges"
    },
    {
      "cell_type": "code",
      "metadata": {
        "id": "improved-harrison"
      },
      "source": [
        "df_train = df[1:12001]\n",
        "df_val = df[12002:15002]\n"
      ],
      "id": "improved-harrison",
      "execution_count": 10,
      "outputs": []
    },
    {
      "cell_type": "code",
      "metadata": {
        "colab": {
          "base_uri": "https://localhost:8080/",
          "height": 341
        },
        "id": "ceramic-atlanta",
        "outputId": "d966eb3a-e437-41f5-8683-1bea35742d44"
      },
      "source": [
        "\n",
        "plt.figure(figsize=(15,5))\n",
        "plt.plot(df_train.index, df_train['temp'])\n",
        "plt.title('Temperature average',\n",
        "          fontsize=20);\n",
        "plt.plot(df_val.index, df_val['temp'])\n",
        "plt.title('Temperature average',\n",
        "          fontsize=20);\n"
      ],
      "id": "ceramic-atlanta",
      "execution_count": 11,
      "outputs": [
        {
          "output_type": "display_data",
          "data": {
            "image/png": "[encoded data removed]",
            "text/plain": [
              "<Figure size 1080x360 with 1 Axes>"
            ]
          },
          "metadata": {
            "needs_background": "light"
          }
        }
      ]
    },
    {
      "cell_type": "code",
      "metadata": {
        "id": "banned-military"
      },
      "source": [
        "T_date = df_train['dt_iso']\n",
        "T_temp  = df_train['temp'].values\n",
        "\n",
        "V_date = df_val['dt_iso'].values\n",
        "V_temp = df_val['temp'].values\n"
      ],
      "id": "banned-military",
      "execution_count": 12,
      "outputs": []
    },
    {
      "cell_type": "code",
      "metadata": {
        "id": "handmade-float"
      },
      "source": [
        "T_temp_r=T_temp.reshape(-1, 1)\n",
        "V_temp_r=V_temp.reshape(-1, 1)\n"
      ],
      "id": "handmade-float",
      "execution_count": 13,
      "outputs": []
    },
    {
      "cell_type": "code",
      "metadata": {
        "id": "ecological-actor"
      },
      "source": [
        "def windowed_dataset(series, window_size, batch_size, shuffle_buffer):\n",
        "    #series = tf.expand_dims(series, axis=-1)\n",
        "    ds = tf.data.Dataset.from_tensor_slices(series)\n",
        "    ds = ds.window(window_size + 1, shift=1, drop_remainder=True)\n",
        "    ds = ds.flat_map(lambda w: w.batch(window_size + 1))\n",
        "    ds = ds.shuffle(shuffle_buffer)\n",
        "    ds = ds.map(lambda w: (w[:-1], w[-1:]))\n",
        "    return ds.batch(batch_size).prefetch(1)"
      ],
      "id": "ecological-actor",
      "execution_count": 14,
      "outputs": []
    },
    {
      "cell_type": "code",
      "metadata": {
        "id": "stone-amplifier"
      },
      "source": [
        "scaler = MinMaxScaler()\n",
        "T_temp_r_s = scaler.fit_transform(T_temp_r)\n",
        "V_temp_r_s = scaler.fit_transform(V_temp_r)"
      ],
      "id": "stone-amplifier",
      "execution_count": 15,
      "outputs": []
    },
    {
      "cell_type": "markdown",
      "metadata": {
        "id": "engaged-producer"
      },
      "source": [
        "# **7. LSTM Model**"
      ],
      "id": "engaged-producer"
    },
    {
      "cell_type": "code",
      "metadata": {
        "id": "polish-archives"
      },
      "source": [
        "data_x_train = windowed_dataset(T_temp_r_s, window_size=60, batch_size=65, shuffle_buffer=1000)\n",
        "data_x_test = windowed_dataset(V_temp_r_s, window_size=60, batch_size=65, shuffle_buffer=1000)\n",
        "\n",
        "model = tf.keras.models.Sequential([\n",
        "  tf.keras.layers.LSTM(128, return_sequences=True), \n",
        "  tf.keras.layers.LSTM(64, return_sequences=True),\n",
        "  tf.keras.layers.LSTM(64, return_sequences=True),\n",
        "    \n",
        "  tf.keras.layers.Dense(60, activation=\"relu\"),\n",
        "  tf.keras.layers.Dense(30, activation=\"relu\"),\n",
        "  tf.keras.layers.Dense(10, activation=\"relu\"),\n",
        "  tf.keras.layers.Dense(1),\n",
        "  tf.keras.layers.Lambda(lambda x: x * 400)\n",
        "])\n",
        "\n",
        "lr_schedule = tf.keras.callbacks.LearningRateScheduler(\n",
        "    lambda epoch: 1e-8 * 10**(epoch / 20))\n",
        "#optimizer = tf.keras.optimizers.SGD(learning_rate=1e-8, momentum=0.9)\n",
        "optimizer = tf.keras.optimizers.Adam(learning_rate=1e-8)\n",
        "\n",
        "model.compile(loss=tf.keras.losses.Huber(),\n",
        "              optimizer=optimizer,\n",
        "              metrics=[\"mae\"])\n",
        "\n"
      ],
      "id": "polish-archives",
      "execution_count": 16,
      "outputs": []
    },
    {
      "cell_type": "markdown",
      "metadata": {
        "id": "southern-financing"
      },
      "source": [
        "**Eksekusi Model LSTM**"
      ],
      "id": "southern-financing"
    },
    {
      "cell_type": "code",
      "metadata": {
        "colab": {
          "base_uri": "https://localhost:8080/"
        },
        "id": "neutral-package",
        "outputId": "0deab898-73f2-4094-c70f-59227f8d9082"
      },
      "source": [
        "history = model.fit(data_x_train ,epochs=65, validation_data=data_x_test, callbacks=[lr_schedule])"
      ],
      "id": "neutral-package",
      "execution_count": 17,
      "outputs": [
        {
          "output_type": "stream",
          "name": "stdout",
          "text": [
            "Epoch 1/65\n",
            "184/184 [==============================] - 48s 230ms/step - loss: 1.9014 - mae: 2.3967 - val_loss: 1.8606 - val_mae: 2.3552\n",
            "Epoch 2/65\n",
            "184/184 [==============================] - 39s 213ms/step - loss: 1.8811 - mae: 2.3763 - val_loss: 1.8387 - val_mae: 2.3332\n",
            "Epoch 3/65\n",
            "184/184 [==============================] - 39s 214ms/step - loss: 1.8578 - mae: 2.3529 - val_loss: 1.8143 - val_mae: 2.3086\n",
            "Epoch 4/65\n",
            "184/184 [==============================] - 40s 215ms/step - loss: 1.8320 - mae: 2.3269 - val_loss: 1.7873 - val_mae: 2.2815\n",
            "Epoch 5/65\n",
            "184/184 [==============================] - 40s 216ms/step - loss: 1.8038 - mae: 2.2985 - val_loss: 1.7582 - val_mae: 2.2523\n",
            "Epoch 6/65\n",
            "184/184 [==============================] - 40s 215ms/step - loss: 1.7729 - mae: 2.2676 - val_loss: 1.7259 - val_mae: 2.2198\n",
            "Epoch 7/65\n",
            "184/184 [==============================] - 40s 215ms/step - loss: 1.7380 - mae: 2.2324 - val_loss: 1.6887 - val_mae: 2.1823\n",
            "Epoch 8/65\n",
            "184/184 [==============================] - 40s 214ms/step - loss: 1.6983 - mae: 2.1926 - val_loss: 1.6471 - val_mae: 2.1405\n",
            "Epoch 9/65\n",
            "184/184 [==============================] - 40s 215ms/step - loss: 1.6540 - mae: 2.1481 - val_loss: 1.6006 - val_mae: 2.0937\n",
            "Epoch 10/65\n",
            "184/184 [==============================] - 40s 214ms/step - loss: 1.6041 - mae: 2.0979 - val_loss: 1.5479 - val_mae: 2.0407\n",
            "Epoch 11/65\n",
            "184/184 [==============================] - 39s 214ms/step - loss: 1.5483 - mae: 2.0418 - val_loss: 1.4897 - val_mae: 1.9822\n",
            "Epoch 12/65\n",
            "184/184 [==============================] - 40s 214ms/step - loss: 1.4861 - mae: 1.9793 - val_loss: 1.4245 - val_mae: 1.9165\n",
            "Epoch 13/65\n",
            "184/184 [==============================] - 40s 214ms/step - loss: 1.4164 - mae: 1.9092 - val_loss: 1.3518 - val_mae: 1.8433\n",
            "Epoch 14/65\n",
            "184/184 [==============================] - 40s 215ms/step - loss: 1.3392 - mae: 1.8315 - val_loss: 1.2723 - val_mae: 1.7632\n",
            "Epoch 15/65\n",
            "184/184 [==============================] - 40s 215ms/step - loss: 1.2551 - mae: 1.7470 - val_loss: 1.1864 - val_mae: 1.6766\n",
            "Epoch 16/65\n",
            "184/184 [==============================] - 40s 215ms/step - loss: 1.1650 - mae: 1.6563 - val_loss: 1.0955 - val_mae: 1.5849\n",
            "Epoch 17/65\n",
            "184/184 [==============================] - 40s 216ms/step - loss: 1.0726 - mae: 1.5632 - val_loss: 1.0047 - val_mae: 1.4932\n",
            "Epoch 18/65\n",
            "184/184 [==============================] - 40s 215ms/step - loss: 0.9859 - mae: 1.4757 - val_loss: 0.9228 - val_mae: 1.4102\n",
            "Epoch 19/65\n",
            "184/184 [==============================] - 40s 214ms/step - loss: 0.9114 - mae: 1.4004 - val_loss: 0.8551 - val_mae: 1.3413\n",
            "Epoch 20/65\n",
            "184/184 [==============================] - 40s 216ms/step - loss: 0.8488 - mae: 1.3367 - val_loss: 0.7980 - val_mae: 1.2828\n",
            "Epoch 21/65\n",
            "184/184 [==============================] - 40s 215ms/step - loss: 0.7923 - mae: 1.2790 - val_loss: 0.7451 - val_mae: 1.2281\n",
            "Epoch 22/65\n",
            "184/184 [==============================] - 40s 217ms/step - loss: 0.7377 - mae: 1.2231 - val_loss: 0.6929 - val_mae: 1.1738\n",
            "Epoch 23/65\n",
            "184/184 [==============================] - 40s 215ms/step - loss: 0.6836 - mae: 1.1672 - val_loss: 0.6409 - val_mae: 1.1192\n",
            "Epoch 24/65\n",
            "184/184 [==============================] - 40s 215ms/step - loss: 0.6295 - mae: 1.1112 - val_loss: 0.5889 - val_mae: 1.0639\n",
            "Epoch 25/65\n",
            "184/184 [==============================] - 39s 214ms/step - loss: 0.5747 - mae: 1.0538 - val_loss: 0.5362 - val_mae: 1.0069\n",
            "Epoch 26/65\n",
            "184/184 [==============================] - 40s 214ms/step - loss: 0.5179 - mae: 0.9936 - val_loss: 0.4811 - val_mae: 0.9461\n",
            "Epoch 27/65\n",
            "184/184 [==============================] - 40s 214ms/step - loss: 0.4577 - mae: 0.9286 - val_loss: 0.4219 - val_mae: 0.8790\n",
            "Epoch 28/65\n",
            "184/184 [==============================] - 40s 215ms/step - loss: 0.3941 - mae: 0.8578 - val_loss: 0.3606 - val_mae: 0.8070\n",
            "Epoch 29/65\n",
            "184/184 [==============================] - 40s 214ms/step - loss: 0.3333 - mae: 0.7859 - val_loss: 0.3033 - val_mae: 0.7354\n",
            "Epoch 30/65\n",
            "184/184 [==============================] - 40s 216ms/step - loss: 0.2777 - mae: 0.7148 - val_loss: 0.2514 - val_mae: 0.6656\n",
            "Epoch 31/65\n",
            "184/184 [==============================] - 40s 215ms/step - loss: 0.2279 - mae: 0.6449 - val_loss: 0.2037 - val_mae: 0.5949\n",
            "Epoch 32/65\n",
            "184/184 [==============================] - 40s 215ms/step - loss: 0.1815 - mae: 0.5721 - val_loss: 0.1591 - val_mae: 0.5205\n",
            "Epoch 33/65\n",
            "184/184 [==============================] - 40s 214ms/step - loss: 0.1382 - mae: 0.4949 - val_loss: 0.1174 - val_mae: 0.4402\n",
            "Epoch 34/65\n",
            "184/184 [==============================] - 40s 214ms/step - loss: 0.0965 - mae: 0.4072 - val_loss: 0.0767 - val_mae: 0.3470\n",
            "Epoch 35/65\n",
            "184/184 [==============================] - 39s 214ms/step - loss: 0.0589 - mae: 0.3093 - val_loss: 0.0460 - val_mae: 0.2608\n",
            "Epoch 36/65\n",
            "184/184 [==============================] - 40s 214ms/step - loss: 0.0364 - mae: 0.2370 - val_loss: 0.0315 - val_mae: 0.2138\n",
            "Epoch 37/65\n",
            "184/184 [==============================] - 40s 216ms/step - loss: 0.0274 - mae: 0.2023 - val_loss: 0.0251 - val_mae: 0.1893\n",
            "Epoch 38/65\n",
            "184/184 [==============================] - 40s 216ms/step - loss: 0.0224 - mae: 0.1805 - val_loss: 0.0209 - val_mae: 0.1717\n",
            "Epoch 39/65\n",
            "184/184 [==============================] - 40s 215ms/step - loss: 0.0188 - mae: 0.1632 - val_loss: 0.0178 - val_mae: 0.1572\n",
            "Epoch 40/65\n",
            "184/184 [==============================] - 40s 215ms/step - loss: 0.0160 - mae: 0.1484 - val_loss: 0.0154 - val_mae: 0.1448\n",
            "Epoch 41/65\n",
            "184/184 [==============================] - 40s 215ms/step - loss: 0.0137 - mae: 0.1347 - val_loss: 0.0133 - val_mae: 0.1333\n",
            "Epoch 42/65\n",
            "184/184 [==============================] - 40s 216ms/step - loss: 0.0116 - mae: 0.1216 - val_loss: 0.0115 - val_mae: 0.1226\n",
            "Epoch 43/65\n",
            "184/184 [==============================] - 40s 215ms/step - loss: 0.0099 - mae: 0.1092 - val_loss: 0.0100 - val_mae: 0.1131\n",
            "Epoch 44/65\n",
            "184/184 [==============================] - 40s 216ms/step - loss: 0.0084 - mae: 0.0982 - val_loss: 0.0088 - val_mae: 0.1052\n",
            "Epoch 45/65\n",
            "184/184 [==============================] - 40s 215ms/step - loss: 0.0073 - mae: 0.0889 - val_loss: 0.0078 - val_mae: 0.0994\n",
            "Epoch 46/65\n",
            "184/184 [==============================] - 40s 215ms/step - loss: 0.0064 - mae: 0.0817 - val_loss: 0.0072 - val_mae: 0.0956\n",
            "Epoch 47/65\n",
            "184/184 [==============================] - 40s 216ms/step - loss: 0.0059 - mae: 0.0769 - val_loss: 0.0069 - val_mae: 0.0933\n",
            "Epoch 48/65\n",
            "184/184 [==============================] - 40s 217ms/step - loss: 0.0056 - mae: 0.0742 - val_loss: 0.0067 - val_mae: 0.0922\n",
            "Epoch 49/65\n",
            "184/184 [==============================] - 40s 216ms/step - loss: 0.0054 - mae: 0.0730 - val_loss: 0.0066 - val_mae: 0.0917\n",
            "Epoch 50/65\n",
            "184/184 [==============================] - 40s 216ms/step - loss: 0.0054 - mae: 0.0725 - val_loss: 0.0066 - val_mae: 0.0915\n",
            "Epoch 51/65\n",
            "184/184 [==============================] - 40s 214ms/step - loss: 0.0054 - mae: 0.0723 - val_loss: 0.0066 - val_mae: 0.0914\n",
            "Epoch 52/65\n",
            "184/184 [==============================] - 40s 216ms/step - loss: 0.0054 - mae: 0.0722 - val_loss: 0.0066 - val_mae: 0.0914\n",
            "Epoch 53/65\n",
            "184/184 [==============================] - 40s 215ms/step - loss: 0.0054 - mae: 0.0721 - val_loss: 0.0067 - val_mae: 0.0914\n",
            "Epoch 54/65\n",
            "184/184 [==============================] - 40s 215ms/step - loss: 0.0054 - mae: 0.0721 - val_loss: 0.0067 - val_mae: 0.0914\n",
            "Epoch 55/65\n",
            "184/184 [==============================] - 40s 215ms/step - loss: 0.0054 - mae: 0.0718 - val_loss: 0.0067 - val_mae: 0.0915\n",
            "Epoch 56/65\n",
            "184/184 [==============================] - 40s 215ms/step - loss: 0.0054 - mae: 0.0717 - val_loss: 0.0068 - val_mae: 0.0917\n",
            "Epoch 57/65\n",
            "184/184 [==============================] - 40s 215ms/step - loss: 0.0054 - mae: 0.0714 - val_loss: 0.0068 - val_mae: 0.0918\n",
            "Epoch 58/65\n",
            "184/184 [==============================] - 40s 216ms/step - loss: 0.0053 - mae: 0.0711 - val_loss: 0.0069 - val_mae: 0.0921\n",
            "Epoch 59/65\n",
            "184/184 [==============================] - 40s 215ms/step - loss: 0.0053 - mae: 0.0711 - val_loss: 0.0069 - val_mae: 0.0922\n",
            "Epoch 60/65\n",
            "184/184 [==============================] - 40s 215ms/step - loss: 0.0053 - mae: 0.0707 - val_loss: 0.0069 - val_mae: 0.0922\n",
            "Epoch 61/65\n",
            "184/184 [==============================] - 40s 215ms/step - loss: 0.0053 - mae: 0.0703 - val_loss: 0.0069 - val_mae: 0.0922\n",
            "Epoch 62/65\n",
            "184/184 [==============================] - 40s 215ms/step - loss: 0.0052 - mae: 0.0699 - val_loss: 0.0069 - val_mae: 0.0921\n",
            "Epoch 63/65\n",
            "184/184 [==============================] - 40s 216ms/step - loss: 0.0051 - mae: 0.0695 - val_loss: 0.0068 - val_mae: 0.0918\n",
            "Epoch 64/65\n",
            "184/184 [==============================] - 40s 216ms/step - loss: 0.0051 - mae: 0.0692 - val_loss: 0.0067 - val_mae: 0.0915\n",
            "Epoch 65/65\n",
            "184/184 [==============================] - 40s 215ms/step - loss: 0.0051 - mae: 0.0691 - val_loss: 0.0067 - val_mae: 0.0916\n"
          ]
        }
      ]
    },
    {
      "cell_type": "markdown",
      "metadata": {
        "id": "informative-leonard"
      },
      "source": [
        "# **8. Membuat plot MAE dan loss**"
      ],
      "id": "informative-leonard"
    },
    {
      "cell_type": "code",
      "metadata": {
        "colab": {
          "base_uri": "https://localhost:8080/",
          "height": 295
        },
        "id": "christian-seating",
        "outputId": "f379da66-bf39-4cbe-8db5-7fdc48253454"
      },
      "source": [
        "import matplotlib.pyplot as plt\n",
        "\n",
        "# plot of mae\n",
        "plt.plot(history.history['mae'])\n",
        "plt.plot(history.history['val_mae'])\n",
        "plt.title('MAE')\n",
        "plt.ylabel('mae')\n",
        "plt.xlabel('epoch')\n",
        "plt.legend(['train', 'test'], loc='upper left')\n",
        "plt.show()"
      ],
      "id": "christian-seating",
      "execution_count": 18,
      "outputs": [
        {
          "output_type": "display_data",
          "data": {
            "image/png": "[encoded data removed]",
            "text/plain": [
              "<Figure size 432x288 with 1 Axes>"
            ]
          },
          "metadata": {
            "needs_background": "light"
          }
        }
      ]
    },
    {
      "cell_type": "code",
      "metadata": {
        "colab": {
          "base_uri": "https://localhost:8080/",
          "height": 295
        },
        "id": "acute-death",
        "outputId": "9edecbf1-5f00-48db-a689-3e724eb62736"
      },
      "source": [
        "# plot of loss\n",
        "plt.plot(history.history['loss'])\n",
        "plt.plot(history.history['val_loss'])\n",
        "plt.title('Model Loss')\n",
        "plt.ylabel('loss')\n",
        "plt.xlabel('epoch')\n",
        "plt.legend(['train', 'test'], loc='upper left')\n",
        "plt.show()"
      ],
      "id": "acute-death",
      "execution_count": 19,
      "outputs": [
        {
          "output_type": "display_data",
          "data": {
            "image/png": "[encoded data removed]",
            "text/plain": [
              "<Figure size 432x288 with 1 Axes>"
            ]
          },
          "metadata": {
            "needs_background": "light"
          }
        }
      ]
    }
  ]
}